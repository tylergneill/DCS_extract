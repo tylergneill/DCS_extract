{
 "cells": [
  {
   "cell_type": "code",
   "execution_count": null,
   "id": "c2dedb94-5336-43c8-8735-9ada33bded9e",
   "metadata": {},
   "outputs": [],
   "source": [
    "import os\n",
    "import glob\n",
    "from tqdm.notebook import tqdm"
   ]
  },
  {
   "cell_type": "code",
   "execution_count": null,
   "id": "f7a04edf-61d5-490a-874c-79869f549902",
   "metadata": {},
   "outputs": [],
   "source": [
    "DCS_DATA_PATH = \"./dcs_source/dcs/data/conllu/files\"\n",
    "OUTPUT_PATH = './extract'"
   ]
  },
  {
   "cell_type": "code",
   "execution_count": null,
   "id": "aea4ccc7-b438-4e41-a01a-0f34f0d66b85",
   "metadata": {},
   "outputs": [],
   "source": [
    "# Function to process a single folder\n",
    "def process_folder(work_name):\n",
    "    input_folder_path = os.path.join(DCS_DATA_PATH, work_name)\n",
    "    output_filepath = os.path.join(OUTPUT_PATH, f\"{work_name}.txt\")\n",
    "    \n",
    "    with open(output_filepath, 'w', encoding='utf-8') as outfile:\n",
    "        # os.makedirs(output_filepath, exist_ok = True) \n",
    "        for conllu_file in sorted(glob.glob(os.path.join(input_folder_path, '*.conllu'))):\n",
    "            # print(f\"Processing file: {conllu_file}\")\n",
    "            with open(conllu_file, 'r', encoding='utf-8') as infile:\n",
    "                chapter = \"\"\n",
    "                text_line = \"\"\n",
    "                sent_id = \"\"\n",
    "                counter = \"\"\n",
    "                subcounter = \"\"\n",
    "                \n",
    "                for line in infile:\n",
    "                    if line.startswith(\"## chapter: \"):\n",
    "                        chapter = line.split(\":\")[1].strip()\n",
    "                        outfile.write(f\"{{{chapter}}}\\n\")\n",
    "                    elif line.startswith(\"# text = \"):\n",
    "                        text_line = line[len(\"# text = \"):].strip()\n",
    "                    elif line.startswith(\"# sent_id = \"):\n",
    "                        sent_id = line.split(\"=\")[1].strip()\n",
    "                    elif line.startswith(\"# sent_counter = \"):\n",
    "                        counter = line.split(\"=\")[1].strip()\n",
    "                    elif line.startswith(\"# sent_subcounter = \"):\n",
    "                        subcounter = line.split(\"=\")[1].strip()\n",
    "\n",
    "                    elif line.startswith(\"1\\t\"):\n",
    "                        # Analysis data starting, now have enough to output line\n",
    "\n",
    "                        # Prepare identifier\n",
    "                        identifier = \"\"\n",
    "                        if chapter:\n",
    "                            identifier += chapter\n",
    "                        if counter and subcounter:\n",
    "                            identifier += f\" {counter}.{subcounter}\"\n",
    "                        elif counter:\n",
    "                            identifier += f\" {counter}\"\n",
    "                        elif sent_id:\n",
    "                            identifier += f\" {sent_id}\"\n",
    "                        else:\n",
    "                            raise ValueError(\"No identifier info: work_name {work_name}, conllu_file {conllu_file}, text_line {text_line}\")\n",
    "\n",
    "                        if not text_line:\n",
    "                            raise ValueError(\"No text_line: sent_id {sent_id}, counter {counter}, subcounter {subcounter}\")\n",
    "\n",
    "                        # Output line\n",
    "                        outfile.write(f\"{text_line} | [{identifier}]\\n\")\n",
    "\n",
    "                    elif line[0] == '\\n':\n",
    "                        # Reset variables\n",
    "                        text_line = \"\"\n",
    "                        sent_id = \"\"\n",
    "                        counter = \"\"\n",
    "                        subcounter = \"\""
   ]
  },
  {
   "cell_type": "code",
   "execution_count": null,
   "id": "bdf9f9c0-23eb-4537-8086-caec9f1813b8",
   "metadata": {},
   "outputs": [],
   "source": [
    "# Process all folders\n",
    "all_works = sorted(os.listdir(DCS_DATA_PATH))\n",
    "all_works.remove('.DS_Store')\n",
    "\n",
    "for work_name in tqdm(all_works):\n",
    "    # print(f\"Processing folder: {work_name}\")\n",
    "    process_folder(work_name)\n",
    "\n",
    "print(\"Extraction complete.\")"
   ]
  },
  {
   "cell_type": "code",
   "execution_count": 5,
   "id": "7f23ca37-7f5a-4394-acaa-b7a9956bafc0",
   "metadata": {},
   "outputs": [
    {
     "data": {
      "text/plain": [
       "257"
      ]
     },
     "execution_count": 5,
     "metadata": {},
     "output_type": "execute_result"
    }
   ],
   "source": [
    "len(all_works)"
   ]
  },
  {
   "cell_type": "code",
   "execution_count": 6,
   "id": "0f897110-d6c0-449e-8e07-9f1e5674b2ca",
   "metadata": {},
   "outputs": [],
   "source": [
    "# analyze newly output plain-text version\n",
    "file_sizes_kbs = {}\n",
    "filenames_sorted = sorted(os.listdir(OUTPUT_PATH))\n",
    "for filename in filenames_sorted:\n",
    "    path = os.path.join(OUTPUT_PATH, filename)\n",
    "    size = os.path.getsize(path)\n",
    "    filename_sans_ext = filename[:-4] # minus '.txt'\n",
    "    file_sizes_kbs[filename_sans_ext] = int(size / 1024 * 10) / 10\n",
    "\n",
    "with open('file_sizes.tsv', 'w') as f:\n",
    "    f.write(\n",
    "        '\\n'.join(\n",
    "            [f\"{k}\\t{v}\" for k,v in file_sizes_kbs.items()]\n",
    "        )\n",
    "    )"
   ]
  },
  {
   "cell_type": "code",
   "execution_count": null,
   "id": "736120ac-46f4-4686-8242-1cb2b7947192",
   "metadata": {},
   "outputs": [],
   "source": []
  }
 ],
 "metadata": {
  "kernelspec": {
   "display_name": "Python 3 (ipykernel)",
   "language": "python",
   "name": "python3"
  },
  "language_info": {
   "codemirror_mode": {
    "name": "ipython",
    "version": 3
   },
   "file_extension": ".py",
   "mimetype": "text/x-python",
   "name": "python",
   "nbconvert_exporter": "python",
   "pygments_lexer": "ipython3",
   "version": "3.11.11"
  }
 },
 "nbformat": 4,
 "nbformat_minor": 5
}
